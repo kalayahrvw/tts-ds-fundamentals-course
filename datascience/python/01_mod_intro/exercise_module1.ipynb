{
 "cells": [
  {
   "cell_type": "markdown",
   "metadata": {},
   "source": [
    "Data Science Fundamentals: Python |\n",
    "[Table of Contents](../index.ipynb)\n",
    "- - - \n",
    "<!--NAVIGATION-->\n",
    "Module 1. [Basic Python Syntax](./01_mod_python_syntax.ipynb) | [Variables and Objects](./02_python_variables_objects.ipynb) | [Operators](./03_python_operators.ipynb) | **[Exercises](./04_mod_practice.ipynb)**"
   ]
  },
  {
   "cell_type": "markdown",
   "metadata": {},
   "source": [
    "# Module 1: Practice Exercises"
   ]
  },
  {
   "cell_type": "markdown",
   "metadata": {},
   "source": [
    "1. Accept the user's first and last name and print them in reverse order with a space between them"
   ]
  },
  {
   "cell_type": "code",
   "execution_count": 1,
   "metadata": {},
   "outputs": [
    {
     "name": "stdout",
     "output_type": "stream",
     "text": [
      "first name: Kalayah\n",
      "last name: Williams\n",
      "Williams Kalayah\n"
     ]
    }
   ],
   "source": [
    "# first name entered, and using \"input\" lets see system know that user needs to enter a value\n",
    "first_name = input (\"first name: \")\n",
    "\n",
    "# last name entered, and using \"input\" lets see system know that user needs to enter a value\n",
    "last_name = input (\"last name: \")\n",
    "\n",
    "# Print out last name and first name with a space\n",
    "print (last_name + \" \" + first_name)"
   ]
  },
  {
   "cell_type": "markdown",
   "metadata": {},
   "source": [
    "2. Accept an integer (n) and compute the value of n+nn+nnn"
   ]
  },
  {
   "cell_type": "code",
   "execution_count": 1,
   "metadata": {},
   "outputs": [
    {
     "name": "stdout",
     "output_type": "stream",
     "text": [
      "4\n"
     ]
    },
    {
     "ename": "ValueError",
     "evalue": "invalid literal for int() with base 10: ''",
     "output_type": "error",
     "traceback": [
      "\u001b[0;31m---------------------------------------------------------------------------\u001b[0m",
      "\u001b[0;31mValueError\u001b[0m                                Traceback (most recent call last)",
      "Input \u001b[0;32mIn [1]\u001b[0m, in \u001b[0;36m<cell line: 4>\u001b[0;34m()\u001b[0m\n\u001b[1;32m      1\u001b[0m \u001b[38;5;66;03m#Accept an integer for \"n\" from the user and then compute the value of \"n+nn+nnn\"\u001b[39;00m\n\u001b[1;32m      2\u001b[0m \n\u001b[1;32m      3\u001b[0m \u001b[38;5;66;03m#number is entered by user, \"number\" is the name given to the input statement, and input is to let python know that the user needs to enter a value\u001b[39;00m\n\u001b[0;32m----> 4\u001b[0m number\u001b[38;5;241m=\u001b[39m\u001b[38;5;28;43mint\u001b[39;49m\u001b[43m(\u001b[49m\u001b[38;5;28;43minput\u001b[39;49m\u001b[43m(\u001b[49m\u001b[38;5;124;43m\"\u001b[39;49m\u001b[38;5;124;43m4\u001b[39;49m\u001b[38;5;124;43m\"\u001b[39;49m\u001b[43m)\u001b[49m\u001b[43m)\u001b[49m\n\u001b[1;32m      6\u001b[0m \u001b[38;5;66;03m#need to convert the value entered for \"n\" to a string in order to create a concaternation, so all \"n\" values calculate correctly\u001b[39;00m\n\u001b[1;32m      7\u001b[0m temp_num\u001b[38;5;241m=\u001b[39m\u001b[38;5;28mstr\u001b[39m(number)\n",
      "\u001b[0;31mValueError\u001b[0m: invalid literal for int() with base 10: ''"
     ]
    }
   ],
   "source": [
    "#Accept an integer for \"n\" from the user and then compute the value of \"n+nn+nnn\"\n",
    "\n",
    "#number is entered by user, \"number\" is the name given to the input statement, and input is to let python know that the user needs to enter a value\n",
    "number=int(input(\"4\"))\n",
    "\n",
    "#need to convert the value entered for \"n\" to a string in order to create a concaternation, so all \"n\" values calculate correctly\n",
    "temp_num=str(number)\n",
    "\n",
    "#add the string value of \"nn\" (twice), stored inside temp_num\n",
    "temp_num1=temp_num=temp_num\n",
    "\n",
    "\n",
    "#add the string value of \"nnn\" (three times), stored inside temp_num2\n",
    "temp_num_2=temp_num+temp_num+temp_num\n",
    "\n",
    "#perform the calculation for \"n+nn+nnn\"\n",
    "#number = n\n",
    "#temp_num = nn, gets converted back to integer using int(temp_num)\n",
    "#temp_num 2 = nnn, gets converted back to integer using int(temp_num2)\n",
    "calculation= number+int(temp_num1)+int(temp_num_4)\n",
    "\n"
   ]
  },
  {
   "cell_type": "markdown",
   "metadata": {},
   "source": [
    "3. Ask the user \"What country are you from?\" then print the following statement: \"I have heard that [input] is a beautiful country!\""
   ]
  },
  {
   "cell_type": "code",
   "execution_count": 1,
   "metadata": {},
   "outputs": [
    {
     "name": "stdout",
     "output_type": "stream",
     "text": [
      "What country are you from?United States\n",
      "I have heard that is this a beautiful country\n"
     ]
    }
   ],
   "source": [
    "#Ask the user \"what country are you from?\" then print the following statement: \"I have heard that [input] is a beautiful country!\"\n",
    "\n",
    "#Ask user to enter (input) a \"country\" to answer the question\n",
    "country= input (\"What country are you from?\")\n",
    "\n",
    "#Print the name of the \"country\" the user entered, along with statement saying what was heard about the \"country\" entered\n",
    "print (\"I have heard that\" + \" \" + \"is this a beautiful country\")\n",
    "\n"
   ]
  },
  {
   "cell_type": "markdown",
   "metadata": {},
   "source": [
    "4. What is the output of the following Python code\n"
   ]
  },
  {
   "cell_type": "code",
   "execution_count": 2,
   "metadata": {},
   "outputs": [],
   "source": [
    "x = 10\n",
    "y = 50\n",
    "if (x ** 2 > 100 and y < 100):\n",
    "    print(x, y)\n",
    "    \n",
    "#values for \"x\" and \"y\"\n",
    "x=10\n",
    "y=50\n",
    "\n",
    "#if the value of \"x\" to the 2nd power(exponent) is greater than 100 and the value for \"y\" is less than 100\n",
    "if (x ** 2 > 100 and y < 100):\n",
    "    #Print the value of \"x\" and \"y:\n",
    "    print (x, y)\n",
    "#Nothing printed because the value of \"x\" to the 2nd power equals 100, not greater than 100\n",
    "#In order for the value for both \"x\" and \"y\" to print both statements in the \"if\" methods needs to be true (correct)"
   ]
  },
  {
   "cell_type": "markdown",
   "metadata": {},
   "source": []
  },
  {
   "cell_type": "markdown",
   "metadata": {},
   "source": [
    "5. What is the output of the following addition (+) operator, and why does this code chunk execute this way?\n",
    "\n",
    "a = [10, 20]\n",
    "b = a\n",
    "b += [30, 40]\n",
    "print(a)\n",
    "print(b)"
   ]
  },
  {
   "cell_type": "code",
   "execution_count": 1,
   "metadata": {},
   "outputs": [
    {
     "name": "stdout",
     "output_type": "stream",
     "text": [
      "[10, 20, 30, 40]\n",
      "[10, 20, 30, 40]\n"
     ]
    }
   ],
   "source": [
    "#values for \"a\"\n",
    "a = [10, 20]\n",
    "\n",
    "#\"b\" equals to whatever the total value of \"a\" is\n",
    "b = a\n",
    "#\"bt=\", changes both \"a\" and \"b\"\n",
    "b += [30, 40]\n",
    "#print values of \"a\"\n",
    "print(a)\n",
    "#print values of \"b\"\n",
    "print(b)\n",
    "\n",
    "#It executes this way because when the addition of the \"+=\" is used, it changes both \"a\" and \"b\"\n",
    "#And both \"a\" and \"b\" are refering to the same object(answer)\n"
   ]
  },
  {
   "cell_type": "markdown",
   "metadata": {},
   "source": [
    "6. What is the output of the following code and what arithmetic operators is being used here? print(2%6) "
   ]
  },
  {
   "cell_type": "code",
   "execution_count": 1,
   "metadata": {},
   "outputs": [
    {
     "name": "stdout",
     "output_type": "stream",
     "text": [
      "2\n"
     ]
    }
   ],
   "source": [
    "#Print the answer to \"2\" divided by \"6\"\n",
    "print(2%6)\n",
    "\n",
    "#Division is being used. Since \"6\" is greater than \"2\", \"2\" becomes the remainder and therefore is \"2\"\n"
   ]
  },
  {
   "cell_type": "markdown",
   "metadata": {},
   "source": [
    "<!--NAVIGATION-->\n",
    "Module 1. [Basic Python Syntax](./01_mod_python_syntax.ipynb) | [Variables and Objects](./02_python_variables_objects.ipynb) | [Operators](./03_python_operators.ipynb) | **[Practice](./04_mod_practice.ipynb)**\n",
    "<br>\n",
    "[top](#)"
   ]
  },
  {
   "cell_type": "code",
   "execution_count": 2,
   "metadata": {},
   "outputs": [
    {
     "name": "stdout",
     "output_type": "stream",
     "text": [
      "216\n"
     ]
    }
   ],
   "source": [
    "#Problem #7\n",
    "#What is the output of the following code and what arithmetic operators are used here?\n",
    "\n",
    "#Print the answer for \"2\" times the exponent of \"3x3x3 =27\" times 4)\n",
    "print (2 * 3 ** 3 * 4)\n",
    "\n",
    "#Exponent and multiplication are being used"
   ]
  },
  {
   "cell_type": "markdown",
   "metadata": {},
   "source": [
    "- - -\n",
    "\n",
    "Copyright © 2020 Qualex Consulting Services Incorporated."
   ]
  },
  {
   "cell_type": "code",
   "execution_count": null,
   "metadata": {},
   "outputs": [],
   "source": [
    "#Problem #8\n",
    "#What is a text editor \n",
    "# A text editor is program that allows the user enter and change text/codes"
   ]
  },
  {
   "cell_type": "code",
   "execution_count": null,
   "metadata": {},
   "outputs": [],
   "source": [
    "#Problem #9\n",
    "#What is python?\n",
    "# Python is a computer programming language which is used to build software, websites, data analysis.\n"
   ]
  },
  {
   "cell_type": "code",
   "execution_count": null,
   "metadata": {},
   "outputs": [],
   "source": [
    "#Problem #10\n",
    "#What is jupyter notebook what type of python environment is it, and what alternatives are there to jupyter notebook?\n",
    "# jupyter notebook is a web app which can be used for coding, it is an interactive development enviroment. Used for pycharm, jupyterlite, etc."
   ]
  },
  {
   "cell_type": "code",
   "execution_count": null,
   "metadata": {},
   "outputs": [],
   "source": []
  }
 ],
 "metadata": {
  "kernelspec": {
   "display_name": "Python 3 (ipykernel)",
   "language": "python",
   "name": "python3"
  },
  "language_info": {
   "codemirror_mode": {
    "name": "ipython",
    "version": 3
   },
   "file_extension": ".py",
   "mimetype": "text/x-python",
   "name": "python",
   "nbconvert_exporter": "python",
   "pygments_lexer": "ipython3",
   "version": "3.10.5"
  }
 },
 "nbformat": 4,
 "nbformat_minor": 4
}
