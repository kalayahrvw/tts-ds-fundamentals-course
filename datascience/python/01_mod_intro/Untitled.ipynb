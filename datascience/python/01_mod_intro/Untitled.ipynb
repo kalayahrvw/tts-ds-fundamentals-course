{
 "cells": [
  {
   "cell_type": "code",
   "execution_count": 1,
   "id": "f0003bbc",
   "metadata": {},
   "outputs": [
    {
     "name": "stdout",
     "output_type": "stream",
     "text": [
      "Enter a number between 1 and 5: 2\n"
     ]
    }
   ],
   "source": [
    "x = input (\"Enter a number between 1 and 5: \")"
   ]
  },
  {
   "cell_type": "code",
   "execution_count": null,
   "id": "0aaa877c",
   "metadata": {},
   "outputs": [],
   "source": [
    "x = input (\"Susie\")"
   ]
  },
  {
   "cell_type": "code",
   "execution_count": null,
   "id": "3552bdd6",
   "metadata": {},
   "outputs": [],
   "source": []
  }
 ],
 "metadata": {
  "kernelspec": {
   "display_name": "Python 3 (ipykernel)",
   "language": "python",
   "name": "python3"
  },
  "language_info": {
   "codemirror_mode": {
    "name": "ipython",
    "version": 3
   },
   "file_extension": ".py",
   "mimetype": "text/x-python",
   "name": "python",
   "nbconvert_exporter": "python",
   "pygments_lexer": "ipython3",
   "version": "3.10.5"
  }
 },
 "nbformat": 4,
 "nbformat_minor": 5
}
